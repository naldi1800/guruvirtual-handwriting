{
 "cells": [
  {
   "cell_type": "code",
   "execution_count": 1,
   "metadata": {},
   "outputs": [],
   "source": [
    "import pandas as pd\n",
    "import numpy as np\n",
    "from RBFNN import RBFNN\n",
    "from sklearn.model_selection import train_test_split\n",
    "from sklearn.preprocessing import LabelEncoder\n",
    "from sklearn.metrics import accuracy_score, classification_report\n",
    "import glob"
   ]
  },
  {
   "cell_type": "code",
   "execution_count": 2,
   "metadata": {},
   "outputs": [
    {
     "name": "stdout",
     "output_type": "stream",
     "text": [
      "0          0_1.png\n",
      "1         0_10.png\n",
      "2         0_11.png\n",
      "3         0_12.png\n",
      "4         0_13.png\n",
      "           ...    \n",
      "1475    plus_5.png\n",
      "1476    plus_6.png\n",
      "1477    plus_7.png\n",
      "1478    plus_8.png\n",
      "1479    plus_9.png\n",
      "Name: filename, Length: 1480, dtype: object\n"
     ]
    }
   ],
   "source": [
    "# 1. Ambil semua file CSV di folder saat ini yang sesuai pola\n",
    "csv_files = glob.glob(\"*.csv\")\n",
    "\n",
    "# 2. Gabungkan semua file\n",
    "df_list = [pd.read_csv(f) for f in csv_files]\n",
    "df_all = pd.concat(df_list, ignore_index=True)\n",
    "print(df_all['filename'])\n",
    "\n",
    "# print(df_all)\n",
    "# Filter hanya baris dengan format filename yang benar (misal: 0_1.png)\n",
    "# df_all = df_all[df_all['filename'].str.contains(r'^\\d+_\\d+\\.png$', regex=True)]\n",
    "\n",
    "# # Ekstrak label dari filename\n",
    "# df_all['label'] = df_all['filename'].str.extract(r'^(\\d+)_')[0].astype(int)\n",
    "# df_all['label'] = df_all['filename'].str.split('_').str[0].astype(int)\n",
    "df_all['label_str'] = df_all['filename'].str.extract(r'^([^_]+)')[0]\n",
    "\n",
    "# files = ['Kelas 1 40.csv', 'Kelas 2 40.csv', 'Kelas 3 40.csv', 'Kelas 4 40.csv']\n",
    "# df_all = pd.concat([pd.read_csv(f) for f in files], ignore_index=True)\n",
    "\n"
   ]
  },
  {
   "cell_type": "code",
   "execution_count": 3,
   "metadata": {},
   "outputs": [],
   "source": [
    "df_all['label_cat'] = pd.Categorical(df_all['label_str']).codes\n",
    "le = LabelEncoder()\n",
    "df_all['label_enc'] = le.fit_transform(df_all['label_str'])"
   ]
  },
  {
   "cell_type": "code",
   "execution_count": 4,
   "metadata": {},
   "outputs": [],
   "source": [
    "# X = df_all.drop(columns=['filename', 'label']).values.astype(float)\n",
    "# y = df_all['label'].values\n",
    "\n",
    "X = df_all.drop(columns=['filename','label_str','label_cat','label_enc'])\n",
    "y = df_all['label_enc'].values\n"
   ]
  },
  {
   "cell_type": "code",
   "execution_count": 5,
   "metadata": {},
   "outputs": [],
   "source": [
    "# kita akan kumpulkan potongan per label:\n",
    "X_train_parts, X_test_parts = [], []\n",
    "y_train_parts, y_test_parts = [], []\n",
    "\n",
    "# ambil kembali DataFrame agar mudah groupby:\n",
    "df_all = pd.DataFrame(\n",
    "    np.hstack([X, y.reshape(-1,1)]),\n",
    "    columns=[f'pixel_{i}' for i in range(X.shape[1])] + ['label']\n",
    ")\n",
    "\n",
    "for lab, group in df_all.groupby('label'):\n",
    "    # pisah fitur dan target utk setiap grup\n",
    "    Xg = group.drop('label', axis=1).values.astype(float)\n",
    "    yg = group['label'].values.astype(int)\n",
    "    \n",
    "    # split per grup\n",
    "    Xg_train, Xg_test, yg_train, yg_test = train_test_split(\n",
    "        Xg, yg,\n",
    "        test_size=0.2,\n",
    "        random_state=42,\n",
    "        shuffle=True\n",
    "    )\n",
    "    \n",
    "    X_train_parts.append(Xg_train)\n",
    "    X_test_parts.append(Xg_test)\n",
    "    y_train_parts.append(yg_train)\n",
    "    y_test_parts.append(yg_test)\n",
    "\n",
    "# gabungkan kembali semua grup\n",
    "X_train = np.vstack(X_train_parts)\n",
    "X_test  = np.vstack(X_test_parts)\n",
    "y_train = np.hstack(y_train_parts)\n",
    "y_test  = np.hstack(y_test_parts)\n"
   ]
  },
  {
   "cell_type": "code",
   "execution_count": 6,
   "metadata": {},
   "outputs": [
    {
     "name": "stdout",
     "output_type": "stream",
     "text": [
      "Train distribusi per label: [79 79 79 79 79 79 79 79 79 79 78 78 78 78 78]\n",
      "Test  distribusi per label: [20 20 20 20 20 20 20 20 20 20 20 20 20 20 20]\n"
     ]
    }
   ],
   "source": [
    "print(\"Train distribusi per label:\", np.bincount(y_train))\n",
    "print(\"Test  distribusi per label:\", np.bincount(y_test))"
   ]
  },
  {
   "cell_type": "code",
   "execution_count": 7,
   "metadata": {},
   "outputs": [
    {
     "name": "stderr",
     "output_type": "stream",
     "text": [
      "d:\\Naldi\\PY\\RBFNN.py:24: RuntimeWarning: Mean of empty slice.\n",
      "  new_centers = np.array([X[labels == i].mean(axis=0) for i in range(self.n_centers)])\n",
      "c:\\ProgramData\\anaconda3\\Lib\\site-packages\\numpy\\core\\_methods.py:121: RuntimeWarning: invalid value encountered in divide\n",
      "  ret = um.true_divide(\n"
     ]
    },
    {
     "ename": "LinAlgError",
     "evalue": "SVD did not converge",
     "output_type": "error",
     "traceback": [
      "\u001b[1;31m---------------------------------------------------------------------------\u001b[0m",
      "\u001b[1;31mLinAlgError\u001b[0m                               Traceback (most recent call last)",
      "Cell \u001b[1;32mIn[7], line 3\u001b[0m\n\u001b[0;32m      1\u001b[0m \u001b[38;5;66;03m# 5. Latih model\u001b[39;00m\n\u001b[0;32m      2\u001b[0m model \u001b[38;5;241m=\u001b[39m RBFNN(n_centers\u001b[38;5;241m=\u001b[39m\u001b[38;5;241m10\u001b[39m)\n\u001b[1;32m----> 3\u001b[0m model\u001b[38;5;241m.\u001b[39mfit(X_train, y_train)\n\u001b[0;32m      5\u001b[0m \u001b[38;5;66;03m# 6. Prediksi & evaluasi\u001b[39;00m\n\u001b[0;32m      6\u001b[0m y_pred \u001b[38;5;241m=\u001b[39m model\u001b[38;5;241m.\u001b[39mpredict(X_test)\n",
      "File \u001b[1;32md:\\Naldi\\PY\\RBFNN.py:62\u001b[0m, in \u001b[0;36mRBFNN.fit\u001b[1;34m(self, X, y)\u001b[0m\n\u001b[0;32m     60\u001b[0m \u001b[38;5;66;03m# 4. Tambahkan bias dan hitung bobot\u001b[39;00m\n\u001b[0;32m     61\u001b[0m phi \u001b[38;5;241m=\u001b[39m np\u001b[38;5;241m.\u001b[39mhstack([phi, np\u001b[38;5;241m.\u001b[39mones((\u001b[38;5;28mlen\u001b[39m(X), \u001b[38;5;241m1\u001b[39m))])\n\u001b[1;32m---> 62\u001b[0m \u001b[38;5;28mself\u001b[39m\u001b[38;5;241m.\u001b[39mweights \u001b[38;5;241m=\u001b[39m np\u001b[38;5;241m.\u001b[39mlinalg\u001b[38;5;241m.\u001b[39mpinv(phi\u001b[38;5;241m.\u001b[39mT \u001b[38;5;241m@\u001b[39m phi) \u001b[38;5;241m@\u001b[39m phi\u001b[38;5;241m.\u001b[39mT \u001b[38;5;241m@\u001b[39m y\n",
      "File \u001b[1;32mc:\\ProgramData\\anaconda3\\Lib\\site-packages\\numpy\\linalg\\linalg.py:2022\u001b[0m, in \u001b[0;36mpinv\u001b[1;34m(a, rcond, hermitian)\u001b[0m\n\u001b[0;32m   2020\u001b[0m     \u001b[38;5;28;01mreturn\u001b[39;00m wrap(res)\n\u001b[0;32m   2021\u001b[0m a \u001b[38;5;241m=\u001b[39m a\u001b[38;5;241m.\u001b[39mconjugate()\n\u001b[1;32m-> 2022\u001b[0m u, s, vt \u001b[38;5;241m=\u001b[39m svd(a, full_matrices\u001b[38;5;241m=\u001b[39m\u001b[38;5;28;01mFalse\u001b[39;00m, hermitian\u001b[38;5;241m=\u001b[39mhermitian)\n\u001b[0;32m   2024\u001b[0m \u001b[38;5;66;03m# discard small singular values\u001b[39;00m\n\u001b[0;32m   2025\u001b[0m cutoff \u001b[38;5;241m=\u001b[39m rcond[\u001b[38;5;241m.\u001b[39m\u001b[38;5;241m.\u001b[39m\u001b[38;5;241m.\u001b[39m, newaxis] \u001b[38;5;241m*\u001b[39m amax(s, axis\u001b[38;5;241m=\u001b[39m\u001b[38;5;241m-\u001b[39m\u001b[38;5;241m1\u001b[39m, keepdims\u001b[38;5;241m=\u001b[39m\u001b[38;5;28;01mTrue\u001b[39;00m)\n",
      "File \u001b[1;32mc:\\ProgramData\\anaconda3\\Lib\\site-packages\\numpy\\linalg\\linalg.py:1681\u001b[0m, in \u001b[0;36msvd\u001b[1;34m(a, full_matrices, compute_uv, hermitian)\u001b[0m\n\u001b[0;32m   1678\u001b[0m         gufunc \u001b[38;5;241m=\u001b[39m _umath_linalg\u001b[38;5;241m.\u001b[39msvd_n_s\n\u001b[0;32m   1680\u001b[0m signature \u001b[38;5;241m=\u001b[39m \u001b[38;5;124m'\u001b[39m\u001b[38;5;124mD->DdD\u001b[39m\u001b[38;5;124m'\u001b[39m \u001b[38;5;28;01mif\u001b[39;00m isComplexType(t) \u001b[38;5;28;01melse\u001b[39;00m \u001b[38;5;124m'\u001b[39m\u001b[38;5;124md->ddd\u001b[39m\u001b[38;5;124m'\u001b[39m\n\u001b[1;32m-> 1681\u001b[0m u, s, vh \u001b[38;5;241m=\u001b[39m gufunc(a, signature\u001b[38;5;241m=\u001b[39msignature, extobj\u001b[38;5;241m=\u001b[39mextobj)\n\u001b[0;32m   1682\u001b[0m u \u001b[38;5;241m=\u001b[39m u\u001b[38;5;241m.\u001b[39mastype(result_t, copy\u001b[38;5;241m=\u001b[39m\u001b[38;5;28;01mFalse\u001b[39;00m)\n\u001b[0;32m   1683\u001b[0m s \u001b[38;5;241m=\u001b[39m s\u001b[38;5;241m.\u001b[39mastype(_realType(result_t), copy\u001b[38;5;241m=\u001b[39m\u001b[38;5;28;01mFalse\u001b[39;00m)\n",
      "File \u001b[1;32mc:\\ProgramData\\anaconda3\\Lib\\site-packages\\numpy\\linalg\\linalg.py:121\u001b[0m, in \u001b[0;36m_raise_linalgerror_svd_nonconvergence\u001b[1;34m(err, flag)\u001b[0m\n\u001b[0;32m    120\u001b[0m \u001b[38;5;28;01mdef\u001b[39;00m \u001b[38;5;21m_raise_linalgerror_svd_nonconvergence\u001b[39m(err, flag):\n\u001b[1;32m--> 121\u001b[0m     \u001b[38;5;28;01mraise\u001b[39;00m LinAlgError(\u001b[38;5;124m\"\u001b[39m\u001b[38;5;124mSVD did not converge\u001b[39m\u001b[38;5;124m\"\u001b[39m)\n",
      "\u001b[1;31mLinAlgError\u001b[0m: SVD did not converge"
     ]
    }
   ],
   "source": [
    "# 5. Latih model\n",
    "model = RBFNN(n_centers=10)\n",
    "model.fit(X_train, y_train)\n",
    "\n",
    "# 6. Prediksi & evaluasi\n",
    "y_pred = model.predict(X_test)\n",
    "y_pred = np.round(y_pred).astype(int)\n",
    "\n",
    "print(\"Accuracy:\", accuracy_score(y_test, y_pred) * 100, '%')\n",
    "print(classification_report(y_test, y_pred))"
   ]
  }
 ],
 "metadata": {
  "kernelspec": {
   "display_name": "Python 3",
   "language": "python",
   "name": "python3"
  },
  "language_info": {
   "codemirror_mode": {
    "name": "ipython",
    "version": 3
   },
   "file_extension": ".py",
   "mimetype": "text/x-python",
   "name": "python",
   "nbconvert_exporter": "python",
   "pygments_lexer": "ipython3",
   "version": "3.11.7"
  }
 },
 "nbformat": 4,
 "nbformat_minor": 2
}
