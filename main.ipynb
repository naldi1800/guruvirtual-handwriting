{
 "cells": [
  {
   "cell_type": "code",
   "execution_count": 26,
   "metadata": {},
   "outputs": [],
   "source": [
    "import pandas as pd\n",
    "import numpy as np\n",
    "from RBFNN import RBFNN\n",
    "from sklearn.model_selection import train_test_split\n",
    "from sklearn.preprocessing import LabelEncoder\n",
    "from sklearn.metrics import accuracy_score, classification_report\n",
    "import glob"
   ]
  },
  {
   "cell_type": "code",
   "execution_count": 27,
   "metadata": {},
   "outputs": [],
   "source": [
    "# 1. Ambil semua file CSV di folder saat ini yang sesuai pola\n",
    "csv_files = glob.glob(\"*.csv\")\n",
    "\n",
    "# 2. Gabungkan semua file\n",
    "df_list = [pd.read_csv(f) for f in csv_files]\n",
    "df_all = pd.concat(df_list, ignore_index=True)\n",
    "\n",
    "# Filter hanya baris dengan format filename yang benar (misal: 0_1.png)\n",
    "df_all = df_all[df_all['filename'].str.contains(r'^\\d+_\\d+\\.png$', regex=True)]\n",
    "\n",
    "# Ekstrak label dari filename\n",
    "df_all['label'] = df_all['filename'].str.extract(r'^(\\d+)_')[0].astype(int)\n",
    "\n",
    "\n",
    "\n",
    "# files = ['Kelas 1 40.csv', 'Kelas 2 40.csv', 'Kelas 3 40.csv', 'Kelas 4 40.csv']\n",
    "# df_all = pd.concat([pd.read_csv(f) for f in files], ignore_index=True)\n",
    "\n"
   ]
  },
  {
   "cell_type": "code",
   "execution_count": 28,
   "metadata": {},
   "outputs": [],
   "source": [
    "X = df_all.drop(columns=['filename', 'label']).values.astype(float)\n",
    "y = df_all['label'].values\n"
   ]
  },
  {
   "cell_type": "code",
   "execution_count": 29,
   "metadata": {},
   "outputs": [],
   "source": [
    "# kita akan kumpulkan potongan per label:\n",
    "X_train_parts, X_test_parts = [], []\n",
    "y_train_parts, y_test_parts = [], []\n",
    "\n",
    "# ambil kembali DataFrame agar mudah groupby:\n",
    "df_all = pd.DataFrame(\n",
    "    np.hstack([X, y.reshape(-1,1)]),\n",
    "    columns=[f'pixel_{i}' for i in range(X.shape[1])] + ['label']\n",
    ")\n",
    "\n",
    "for lab, group in df_all.groupby('label'):\n",
    "    # pisah fitur dan target utk setiap grup\n",
    "    Xg = group.drop('label', axis=1).values.astype(float)\n",
    "    yg = group['label'].values.astype(int)\n",
    "    \n",
    "    # split per grup\n",
    "    Xg_train, Xg_test, yg_train, yg_test = train_test_split(\n",
    "        Xg, yg,\n",
    "        test_size=0.2,\n",
    "        random_state=42,\n",
    "        shuffle=True\n",
    "    )\n",
    "    \n",
    "    X_train_parts.append(Xg_train)\n",
    "    X_test_parts.append(Xg_test)\n",
    "    y_train_parts.append(yg_train)\n",
    "    y_test_parts.append(yg_test)\n",
    "\n",
    "# gabungkan kembali semua grup\n",
    "X_train = np.vstack(X_train_parts)\n",
    "X_test  = np.vstack(X_test_parts)\n",
    "y_train = np.hstack(y_train_parts)\n",
    "y_test  = np.hstack(y_test_parts)\n"
   ]
  },
  {
   "cell_type": "code",
   "execution_count": 30,
   "metadata": {},
   "outputs": [
    {
     "name": "stdout",
     "output_type": "stream",
     "text": [
      "Accuracy: 0.085\n",
      "              precision    recall  f1-score   support\n",
      "\n",
      "           0       0.00      0.00      0.00        20\n",
      "           1       0.00      0.00      0.00        20\n",
      "           2       0.00      0.00      0.00        20\n",
      "           3       0.00      0.00      0.00        20\n",
      "           4       0.04      0.15      0.06        20\n",
      "           5       0.12      0.70      0.21        20\n",
      "           6       0.00      0.00      0.00        20\n",
      "           7       0.00      0.00      0.00        20\n",
      "           8       0.00      0.00      0.00        20\n",
      "           9       0.00      0.00      0.00        20\n",
      "\n",
      "    accuracy                           0.09       200\n",
      "   macro avg       0.02      0.08      0.03       200\n",
      "weighted avg       0.02      0.09      0.03       200\n",
      "\n"
     ]
    },
    {
     "name": "stderr",
     "output_type": "stream",
     "text": [
      "c:\\ProgramData\\anaconda3\\Lib\\site-packages\\sklearn\\metrics\\_classification.py:1344: UndefinedMetricWarning: Precision and F-score are ill-defined and being set to 0.0 in labels with no predicted samples. Use `zero_division` parameter to control this behavior.\n",
      "  _warn_prf(average, modifier, msg_start, len(result))\n",
      "c:\\ProgramData\\anaconda3\\Lib\\site-packages\\sklearn\\metrics\\_classification.py:1344: UndefinedMetricWarning: Precision and F-score are ill-defined and being set to 0.0 in labels with no predicted samples. Use `zero_division` parameter to control this behavior.\n",
      "  _warn_prf(average, modifier, msg_start, len(result))\n",
      "c:\\ProgramData\\anaconda3\\Lib\\site-packages\\sklearn\\metrics\\_classification.py:1344: UndefinedMetricWarning: Precision and F-score are ill-defined and being set to 0.0 in labels with no predicted samples. Use `zero_division` parameter to control this behavior.\n",
      "  _warn_prf(average, modifier, msg_start, len(result))\n"
     ]
    }
   ],
   "source": [
    "# 5. Latih model\n",
    "model = RBFNN(n_centers=10)\n",
    "model.fit(X_train, y_train)\n",
    "\n",
    "# 6. Prediksi & evaluasi\n",
    "y_pred = model.predict(X_test)\n",
    "y_pred = np.round(y_pred).astype(int)\n",
    "\n",
    "print(\"Accuracy:\", accuracy_score(y_test, y_pred))\n",
    "print(classification_report(y_test, y_pred))"
   ]
  }
 ],
 "metadata": {
  "kernelspec": {
   "display_name": "Python 3",
   "language": "python",
   "name": "python3"
  },
  "language_info": {
   "codemirror_mode": {
    "name": "ipython",
    "version": 3
   },
   "file_extension": ".py",
   "mimetype": "text/x-python",
   "name": "python",
   "nbconvert_exporter": "python",
   "pygments_lexer": "ipython3",
   "version": "3.11.7"
  }
 },
 "nbformat": 4,
 "nbformat_minor": 2
}
