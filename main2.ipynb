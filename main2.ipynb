{
 "cells": [
  {
   "cell_type": "code",
   "execution_count": 6,
   "metadata": {},
   "outputs": [
    {
     "ename": "ModuleNotFoundError",
     "evalue": "No module named 'sklearn'",
     "output_type": "error",
     "traceback": [
      "\u001b[31m---------------------------------------------------------------------------\u001b[39m",
      "\u001b[31mModuleNotFoundError\u001b[39m                       Traceback (most recent call last)",
      "\u001b[36mCell\u001b[39m\u001b[36m \u001b[39m\u001b[32mIn[6]\u001b[39m\u001b[32m, line 5\u001b[39m\n\u001b[32m      3\u001b[39m \u001b[38;5;28;01mfrom\u001b[39;00m\u001b[38;5;250m \u001b[39m\u001b[34;01mRBFNN\u001b[39;00m\u001b[38;5;250m \u001b[39m\u001b[38;5;28;01mimport\u001b[39;00m RBFNN\n\u001b[32m      4\u001b[39m \u001b[38;5;28;01mimport\u001b[39;00m\u001b[38;5;250m \u001b[39m\u001b[34;01mnumpy\u001b[39;00m\u001b[38;5;250m \u001b[39m\u001b[38;5;28;01mas\u001b[39;00m\u001b[38;5;250m \u001b[39m\u001b[34;01mnp\u001b[39;00m\n\u001b[32m----> \u001b[39m\u001b[32m5\u001b[39m \u001b[38;5;28;01mfrom\u001b[39;00m\u001b[38;5;250m \u001b[39m\u001b[34;01msklearn\u001b[39;00m\u001b[34;01m.\u001b[39;00m\u001b[34;01mmodel_selection\u001b[39;00m\u001b[38;5;250m \u001b[39m\u001b[38;5;28;01mimport\u001b[39;00m train_test_split\n\u001b[32m      7\u001b[39m output_dir_raw = \u001b[33m\"\u001b[39m\u001b[33mRawData/Kelas 1 40/\u001b[39m\u001b[33m\"\u001b[39m\n\u001b[32m      8\u001b[39m output_dir = \u001b[33m\"\u001b[39m\u001b[33mData/Kelas 1 40\u001b[39m\u001b[33m\"\u001b[39m\n",
      "\u001b[31mModuleNotFoundError\u001b[39m: No module named 'sklearn'"
     ]
    }
   ],
   "source": [
    "import fun\n",
    "import os\n",
    "from RBFNN import RBFNN\n",
    "import numpy as np\n",
    "from sklearn.model_selection import train_test_split\n",
    "\n",
    "output_dir_raw = \"RawData/Kelas 1 40/\"\n",
    "output_dir = \"Data/Kelas 1 40\"\n",
    "slice_cols = 5\n",
    "slice_rows = 3\n",
    "margin_x = 50\n",
    "margin_y = 78\n",
    "pixel = (35,35)\n",
    "\n",
    "path = \"F:/TUGAS/UNHAS/TESIS/Data/Kelas 1 40\""
   ]
  },
  {
   "cell_type": "code",
   "execution_count": 31,
   "metadata": {},
   "outputs": [],
   "source": [
    "\n",
    "# buat kotak utama\n",
    "# file_names = [file for file in os.listdir(path) if os.path.isfile(os.path.join(path, file))]\n",
    "\n",
    "# for file in file_names:\n",
    "#     fun.crop_largest_box(f\"{path}/{file}\", file, output_dir_raw)\n",
    "\n",
    "\n",
    "# potong kotak\n",
    "# file_names = [file for file in os.listdir(output_dir_raw) if os.path.isfile(os.path.join(output_dir_raw, file))]\n",
    "\n",
    "# for index, file in enumerate(file_names):\n",
    "#     if index == 5:\n",
    "#         break\n",
    "#     fun.slice_image_with_margin(f\"{output_dir_raw}/{file}\", index, output_dir, slice_cols, slice_rows, margin_x, margin_y, pixel)\n"
   ]
  },
  {
   "cell_type": "code",
   "execution_count": 32,
   "metadata": {},
   "outputs": [
    {
     "name": "stdout",
     "output_type": "stream",
     "text": [
      "['0_1.png', '0_2.png', '0_3.png', '0_4.png', '0_5.png', '1_1.png', '1_2.png', '1_3.png', '1_4.png', '1_5.png', '2_1.png', '2_2.png', '2_3.png', '2_4.png', '2_5.png', '3_1.png', '3_2.png', '3_3.png', '3_4.png', '3_5.png', '4_1.png', '4_2.png', '4_3.png', '4_4.png', '4_5.png', '5_1.png', '5_2.png', '5_3.png', '5_4.png', '5_5.png', '6_1.png', '6_2.png', '6_3.png', '6_4.png', '6_5.png', '7_1.png', '7_2.png', '7_3.png', '7_4.png', '7_5.png', '8_1.png', '8_2.png', '8_3.png', '8_4.png', '8_5.png', '9_1.png', '9_2.png', '9_3.png', '9_4.png', '9_5.png', 'division_1.png', 'division_2.png', 'division_3.png', 'division_4.png', 'division_5.png', 'equal_1.png', 'equal_2.png', 'equal_3.png', 'equal_4.png', 'equal_5.png', 'minus_1.png', 'minus_2.png', 'minus_3.png', 'minus_4.png', 'minus_5.png', 'multiplication_1.png', 'multiplication_2.png', 'multiplication_3.png', 'multiplication_4.png', 'multiplication_5.png', 'plus_1.png', 'plus_2.png', 'plus_3.png', 'plus_4.png', 'plus_5.png'] 75\n"
     ]
    }
   ],
   "source": [
    "\n",
    "\n",
    "file_names = [file for file in os.listdir(output_dir) if os.path.isfile(os.path.join(output_dir, file))]\n",
    "print(file_names, len(file_names))\n",
    "\n",
    "# file1 = file_names[0]\n",
    "\n",
    "# x = fun.load_pixel(f\"{output_dir}/{file1}\")\n",
    "\n",
    "\n",
    "# Inisialisasi array untuk menyimpan semua data gambar\n",
    "X = []  # Menyimpan fitur\n",
    "y = []  # Menyimpan label (jika ada)\n",
    "\n",
    "# Loop melalui semua file\n",
    "for file_name in file_names:\n",
    "    # Load pixel gambar (sudah dinormalisasi)\n",
    "    img_data = fun.load_pixel(f\"{output_dir}/{file_name}\")\n",
    "    \n",
    "    # Tambahkan ke array X\n",
    "    X.append(img_data)\n",
    "    \n",
    "    # Jika ingin membuat label (contoh: ambil dari nama file)\n",
    "    # Contoh: jika format nama file \"class1_image1.png\"\n",
    "    label = file_name.split(\"_\")[0]  # Ambil bagian kelas\n",
    "    y.append(label)"
   ]
  },
  {
   "cell_type": "code",
   "execution_count": 33,
   "metadata": {},
   "outputs": [
    {
     "name": "stdout",
     "output_type": "stream",
     "text": [
      "1531.25\n",
      "[0.96862745 0.96470588 0.96078431 0.96078431 0.96470588 0.96862745\n",
      " 0.96470588 0.96470588 0.96862745 0.96862745 0.96862745 0.96862745\n",
      " 0.96862745 0.97254902 0.97254902 0.97254902 0.97254902 0.97647059\n",
      " 0.97647059 0.97647059]\n"
     ]
    }
   ],
   "source": [
    "# m = (pixel[0] * pixel[1]) / 4 + (pixel[0] * pixel[1])\n",
    "# print(m)\n",
    "# print(x[:20])\n"
   ]
  },
  {
   "cell_type": "code",
   "execution_count": 3,
   "metadata": {},
   "outputs": [
    {
     "ename": "NameError",
     "evalue": "name 'train_test_split' is not defined",
     "output_type": "error",
     "traceback": [
      "\u001b[31m---------------------------------------------------------------------------\u001b[39m",
      "\u001b[31mNameError\u001b[39m                                 Traceback (most recent call last)",
      "\u001b[36mCell\u001b[39m\u001b[36m \u001b[39m\u001b[32mIn[3]\u001b[39m\u001b[32m, line 1\u001b[39m\n\u001b[32m----> \u001b[39m\u001b[32m1\u001b[39m X_train, X_test, y_train, y_test = \u001b[43mtrain_test_split\u001b[49m(X, y, test_size=\u001b[32m0.2\u001b[39m)\n\u001b[32m      4\u001b[39m X = np.array(X)\n\u001b[32m      5\u001b[39m y = np.array(y) \n",
      "\u001b[31mNameError\u001b[39m: name 'train_test_split' is not defined"
     ]
    }
   ],
   "source": [
    "X_train, X_test, y_train, y_test = train_test_split(X, y, test_size=0.2)\n",
    "\n",
    "\n",
    "X = np.array(X)\n",
    "y = np.array(y) \n",
    "\n",
    "# Inisialisasi dan training model\n",
    "rbf = RBFNN(n_centers=15)\n",
    "rbf.fit(X_train, y_train)\n",
    "\n",
    "y_pred = rbf.predict(X_test)\n",
    "# Prediksi\n",
    "test_image = np.random.rand(1225)  # Gambar uji 35x35\n",
    "prediction = rbf.predict([test_image])\n",
    "print(\"Prediksi:\", prediction)"
   ]
  }
 ],
 "metadata": {
  "kernelspec": {
   "display_name": "elhau",
   "language": "python",
   "name": "python3"
  },
  "language_info": {
   "codemirror_mode": {
    "name": "ipython",
    "version": 3
   },
   "file_extension": ".py",
   "mimetype": "text/x-python",
   "name": "python",
   "nbconvert_exporter": "python",
   "pygments_lexer": "ipython3",
   "version": "3.13.2"
  }
 },
 "nbformat": 4,
 "nbformat_minor": 2
}
