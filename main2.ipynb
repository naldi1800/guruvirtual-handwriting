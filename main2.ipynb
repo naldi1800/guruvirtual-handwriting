{
 "cells": [
  {
   "cell_type": "code",
   "execution_count": 9,
   "metadata": {},
   "outputs": [],
   "source": [
    "import fun\n",
    "import os\n",
    "from RBFNN import RBFNN\n",
    "import numpy as np\n",
    "from sklearn.model_selection import train_test_split\n",
    "\n",
    "output_dir = \"Data/Kelas 1 40\"\n",
    "slice_cols = 5\n",
    "slice_rows = 3\n",
    "margin_x = 50\n",
    "margin_y = 78\n",
    "pixel = (35,35)"
   ]
  },
  {
   "cell_type": "code",
   "execution_count": 10,
   "metadata": {},
   "outputs": [],
   "source": [
    "\n",
    "# buat kotak utama\n",
    "# file_names = [file for file in os.listdir(path) if os.path.isfile(os.path.join(path, file))]\n",
    "\n",
    "# for file in file_names:\n",
    "#     fun.crop_largest_box(f\"{path}/{file}\", file, output_dir_raw)\n",
    "\n",
    "\n",
    "# potong kotak\n",
    "# file_names = [file for file in os.listdir(output_dir_raw) if os.path.isfile(os.path.join(output_dir_raw, file))]\n",
    "\n",
    "# for index, file in enumerate(file_names):\n",
    "#     if index == 5:\n",
    "#         break\n",
    "#     fun.slice_image_with_margin(f\"{output_dir_raw}/{file}\", index, output_dir, slice_cols, slice_rows, margin_x, margin_y, pixel)\n"
   ]
  },
  {
   "cell_type": "code",
   "execution_count": 11,
   "metadata": {},
   "outputs": [
    {
     "name": "stdout",
     "output_type": "stream",
     "text": [
      "['0_1.png', '0_10.png', '0_11.png', '0_12.png', '0_13.png', '0_14.png', '0_15.png', '0_16.png', '0_17.png', '0_18.png', '0_19.png', '0_2.png', '0_20.png', '0_21.png', '0_22.png', '0_23.png', '0_24.png', '0_25.png', '0_26.png', '0_27.png', '0_28.png', '0_29.png', '0_3.png', '0_30.png', '0_31.png', '0_32.png', '0_33.png', '0_34.png', '0_35.png', '0_36.png', '0_37.png', '0_38.png', '0_39.png', '0_4.png', '0_5.png', '0_6.png', '0_7.png', '0_8.png', '0_9.png', '1_1.png', '1_10.png', '1_11.png', '1_12.png', '1_13.png', '1_14.png', '1_15.png', '1_16.png', '1_17.png', '1_18.png', '1_19.png', '1_2.png', '1_20.png', '1_21.png', '1_22.png', '1_23.png', '1_24.png', '1_25.png', '1_26.png', '1_27.png', '1_28.png', '1_29.png', '1_3.png', '1_30.png', '1_31.png', '1_32.png', '1_33.png', '1_34.png', '1_35.png', '1_36.png', '1_37.png', '1_38.png', '1_39.png', '1_4.png', '1_5.png', '1_6.png', '1_7.png', '1_8.png', '1_9.png', '2_1.png', '2_10.png', '2_11.png', '2_12.png', '2_13.png', '2_14.png', '2_15.png', '2_16.png', '2_17.png', '2_18.png', '2_19.png', '2_2.png', '2_20.png', '2_21.png', '2_22.png', '2_23.png', '2_24.png', '2_25.png', '2_26.png', '2_27.png', '2_28.png', '2_29.png', '2_3.png', '2_30.png', '2_31.png', '2_32.png', '2_33.png', '2_34.png', '2_35.png', '2_36.png', '2_37.png', '2_38.png', '2_39.png', '2_4.png', '2_5.png', '2_6.png', '2_7.png', '2_8.png', '2_9.png', '3_1.png', '3_10.png', '3_11.png', '3_12.png', '3_13.png', '3_14.png', '3_15.png', '3_16.png', '3_17.png', '3_18.png', '3_19.png', '3_2.png', '3_20.png', '3_21.png', '3_22.png', '3_23.png', '3_24.png', '3_25.png', '3_26.png', '3_27.png', '3_28.png', '3_29.png', '3_3.png', '3_30.png', '3_31.png', '3_32.png', '3_33.png', '3_34.png', '3_35.png', '3_36.png', '3_37.png', '3_38.png', '3_39.png', '3_4.png', '3_5.png', '3_6.png', '3_7.png', '3_8.png', '3_9.png', '4_1.png', '4_10.png', '4_11.png', '4_12.png', '4_13.png', '4_14.png', '4_15.png', '4_16.png', '4_17.png', '4_18.png', '4_19.png', '4_2.png', '4_20.png', '4_21.png', '4_22.png', '4_23.png', '4_24.png', '4_25.png', '4_26.png', '4_27.png', '4_28.png', '4_29.png', '4_3.png', '4_30.png', '4_31.png', '4_32.png', '4_33.png', '4_34.png', '4_35.png', '4_36.png', '4_37.png', '4_38.png', '4_39.png', '4_4.png', '4_5.png', '4_6.png', '4_7.png', '4_8.png', '4_9.png', '5_1.png', '5_10.png', '5_11.png', '5_12.png', '5_13.png', '5_14.png', '5_15.png', '5_16.png', '5_17.png', '5_18.png', '5_19.png', '5_2.png', '5_20.png', '5_21.png', '5_22.png', '5_23.png', '5_24.png', '5_25.png', '5_26.png', '5_27.png', '5_28.png', '5_29.png', '5_3.png', '5_30.png', '5_31.png', '5_32.png', '5_33.png', '5_34.png', '5_35.png', '5_36.png', '5_37.png', '5_38.png', '5_39.png', '5_4.png', '5_5.png', '5_6.png', '5_7.png', '5_8.png', '5_9.png', '6_1.png', '6_10.png', '6_11.png', '6_12.png', '6_13.png', '6_14.png', '6_15.png', '6_16.png', '6_17.png', '6_18.png', '6_19.png', '6_2.png', '6_20.png', '6_21.png', '6_22.png', '6_23.png', '6_24.png', '6_25.png', '6_26.png', '6_27.png', '6_28.png', '6_29.png', '6_3.png', '6_30.png', '6_31.png', '6_32.png', '6_33.png', '6_34.png', '6_35.png', '6_36.png', '6_37.png', '6_38.png', '6_39.png', '6_4.png', '6_5.png', '6_6.png', '6_7.png', '6_8.png', '6_9.png', '7_1.png', '7_10.png', '7_11.png', '7_12.png', '7_13.png', '7_14.png', '7_15.png', '7_16.png', '7_17.png', '7_18.png', '7_19.png', '7_2.png', '7_20.png', '7_21.png', '7_22.png', '7_23.png', '7_24.png', '7_25.png', '7_26.png', '7_27.png', '7_28.png', '7_29.png', '7_3.png', '7_30.png', '7_31.png', '7_32.png', '7_33.png', '7_34.png', '7_35.png', '7_36.png', '7_37.png', '7_38.png', '7_39.png', '7_4.png', '7_5.png', '7_6.png', '7_7.png', '7_8.png', '7_9.png', '8_1.png', '8_10.png', '8_11.png', '8_12.png', '8_13.png', '8_14.png', '8_15.png', '8_16.png', '8_17.png', '8_18.png', '8_19.png', '8_2.png', '8_20.png', '8_21.png', '8_22.png', '8_23.png', '8_24.png', '8_25.png', '8_26.png', '8_27.png', '8_28.png', '8_29.png', '8_3.png', '8_30.png', '8_31.png', '8_32.png', '8_33.png', '8_34.png', '8_35.png', '8_36.png', '8_37.png', '8_38.png', '8_39.png', '8_4.png', '8_5.png', '8_6.png', '8_7.png', '8_8.png', '8_9.png', '9_1.png', '9_10.png', '9_11.png', '9_12.png', '9_13.png', '9_14.png', '9_15.png', '9_16.png', '9_17.png', '9_18.png', '9_19.png', '9_2.png', '9_20.png', '9_21.png', '9_22.png', '9_23.png', '9_24.png', '9_25.png', '9_26.png', '9_27.png', '9_28.png', '9_29.png', '9_3.png', '9_30.png', '9_31.png', '9_32.png', '9_33.png', '9_34.png', '9_35.png', '9_36.png', '9_37.png', '9_38.png', '9_39.png', '9_4.png', '9_5.png', '9_6.png', '9_7.png', '9_8.png', '9_9.png', 'division_1.png', 'division_10.png', 'division_11.png', 'division_12.png', 'division_13.png', 'division_14.png', 'division_15.png', 'division_16.png', 'division_17.png', 'division_18.png', 'division_19.png', 'division_2.png', 'division_20.png', 'division_21.png', 'division_22.png', 'division_23.png', 'division_24.png', 'division_25.png', 'division_26.png', 'division_27.png', 'division_28.png', 'division_29.png', 'division_3.png', 'division_30.png', 'division_31.png', 'division_32.png', 'division_33.png', 'division_34.png', 'division_35.png', 'division_36.png', 'division_37.png', 'division_38.png', 'division_39.png', 'division_4.png', 'division_5.png', 'division_6.png', 'division_7.png', 'division_8.png', 'division_9.png', 'equal_1.png', 'equal_10.png', 'equal_11.png', 'equal_12.png', 'equal_13.png', 'equal_14.png', 'equal_15.png', 'equal_16.png', 'equal_17.png', 'equal_18.png', 'equal_19.png', 'equal_2.png', 'equal_20.png', 'equal_21.png', 'equal_22.png', 'equal_23.png', 'equal_24.png', 'equal_25.png', 'equal_26.png', 'equal_27.png', 'equal_28.png', 'equal_29.png', 'equal_3.png', 'equal_30.png', 'equal_31.png', 'equal_32.png', 'equal_33.png', 'equal_34.png', 'equal_35.png', 'equal_36.png', 'equal_37.png', 'equal_38.png', 'equal_39.png', 'equal_4.png', 'equal_5.png', 'equal_6.png', 'equal_7.png', 'equal_8.png', 'equal_9.png', 'minus_1.png', 'minus_10.png', 'minus_11.png', 'minus_12.png', 'minus_13.png', 'minus_14.png', 'minus_15.png', 'minus_16.png', 'minus_17.png', 'minus_18.png', 'minus_19.png', 'minus_2.png', 'minus_20.png', 'minus_21.png', 'minus_22.png', 'minus_23.png', 'minus_24.png', 'minus_25.png', 'minus_26.png', 'minus_27.png', 'minus_28.png', 'minus_29.png', 'minus_3.png', 'minus_30.png', 'minus_31.png', 'minus_32.png', 'minus_33.png', 'minus_34.png', 'minus_35.png', 'minus_36.png', 'minus_37.png', 'minus_38.png', 'minus_39.png', 'minus_4.png', 'minus_5.png', 'minus_6.png', 'minus_7.png', 'minus_8.png', 'minus_9.png', 'multiplication_1.png', 'multiplication_10.png', 'multiplication_11.png', 'multiplication_12.png', 'multiplication_13.png', 'multiplication_14.png', 'multiplication_15.png', 'multiplication_16.png', 'multiplication_17.png', 'multiplication_18.png', 'multiplication_19.png', 'multiplication_2.png', 'multiplication_20.png', 'multiplication_21.png', 'multiplication_22.png', 'multiplication_23.png', 'multiplication_24.png', 'multiplication_25.png', 'multiplication_26.png', 'multiplication_27.png', 'multiplication_28.png', 'multiplication_29.png', 'multiplication_3.png', 'multiplication_30.png', 'multiplication_31.png', 'multiplication_32.png', 'multiplication_33.png', 'multiplication_34.png', 'multiplication_35.png', 'multiplication_36.png', 'multiplication_37.png', 'multiplication_38.png', 'multiplication_39.png', 'multiplication_4.png', 'multiplication_5.png', 'multiplication_6.png', 'multiplication_7.png', 'multiplication_8.png', 'multiplication_9.png', 'plus_1.png', 'plus_10.png', 'plus_11.png', 'plus_12.png', 'plus_13.png', 'plus_14.png', 'plus_15.png', 'plus_16.png', 'plus_17.png', 'plus_18.png', 'plus_19.png', 'plus_2.png', 'plus_20.png', 'plus_21.png', 'plus_22.png', 'plus_23.png', 'plus_24.png', 'plus_25.png', 'plus_26.png', 'plus_27.png', 'plus_28.png', 'plus_29.png', 'plus_3.png', 'plus_30.png', 'plus_31.png', 'plus_32.png', 'plus_33.png', 'plus_34.png', 'plus_35.png', 'plus_36.png', 'plus_37.png', 'plus_38.png', 'plus_39.png', 'plus_4.png', 'plus_5.png', 'plus_6.png', 'plus_7.png', 'plus_8.png', 'plus_9.png'] 585\n"
     ]
    }
   ],
   "source": [
    "\n",
    "\n",
    "file_names = [file for file in os.listdir(output_dir) if os.path.isfile(os.path.join(output_dir, file))]\n",
    "print(file_names, len(file_names))\n",
    "\n",
    "# file1 = file_names[0]\n",
    "\n",
    "# x = fun.load_pixel(f\"{output_dir}/{file1}\")\n",
    "\n",
    "\n",
    "# Inisialisasi array untuk menyimpan semua data gambar\n",
    "X = []  # Menyimpan fitur\n",
    "y = []  # Menyimpan label (jika ada)\n",
    "\n",
    "# Loop melalui semua file\n",
    "for file_name in file_names:\n",
    "    # Load pixel gambar (sudah dinormalisasi)\n",
    "    img_data = fun.load_pixel(f\"{output_dir}/{file_name}\")\n",
    "    \n",
    "    # Tambahkan ke array X\n",
    "    X.append(img_data)\n",
    "    \n",
    "    # Jika ingin membuat label (contoh: ambil dari nama file)\n",
    "    # Contoh: jika format nama file \"class1_image1.png\"\n",
    "    label = file_name.split(\"_\")[0]  # Ambil bagian kelas\n",
    "    y.append(label)"
   ]
  },
  {
   "cell_type": "code",
   "execution_count": 12,
   "metadata": {},
   "outputs": [],
   "source": [
    "# m = (pixel[0] * pixel[1]) / 4 + (pixel[0] * pixel[1])\n",
    "# print(m)\n",
    "# print(x[:20])\n"
   ]
  },
  {
   "cell_type": "code",
   "execution_count": 14,
   "metadata": {},
   "outputs": [
    {
     "name": "stdout",
     "output_type": "stream",
     "text": [
      "[[0.96862745 0.96470588 0.96078431 ... 0.98823529 0.98823529 0.98823529]\n",
      " [0.96862745 0.96862745 0.96862745 ... 0.99215686 0.99215686 0.99215686]\n",
      " [0.95686275 0.95686275 0.96078431 ... 0.99607843 0.99215686 0.99215686]\n",
      " ...\n",
      " [0.96862745 0.96862745 0.96470588 ... 0.97254902 0.97647059 0.97647059]\n",
      " [0.97254902 0.97254902 0.97254902 ... 0.98039216 0.98039216 0.98039216]\n",
      " [0.97254902 0.97647059 0.96862745 ... 0.97647059 0.98039216 0.98039216]]\n",
      "['0' '0' '0' '0' '0' '0' '0' '0' '0' '0' '0' '0' '0' '0' '0' '0' '0' '0'\n",
      " '0' '0' '0' '0' '0' '0' '0' '0' '0' '0' '0' '0' '0' '0' '0' '0' '0' '0'\n",
      " '0' '0' '0' '1' '1' '1' '1' '1' '1' '1' '1' '1' '1' '1' '1' '1' '1' '1'\n",
      " '1' '1' '1' '1' '1' '1' '1' '1' '1' '1' '1' '1' '1' '1' '1' '1' '1' '1'\n",
      " '1' '1' '1' '1' '1' '1' '2' '2' '2' '2' '2' '2' '2' '2' '2' '2' '2' '2'\n",
      " '2' '2' '2' '2' '2' '2' '2' '2' '2' '2' '2' '2' '2' '2' '2' '2' '2' '2'\n",
      " '2' '2' '2' '2' '2' '2' '2' '2' '2' '3' '3' '3' '3' '3' '3' '3' '3' '3'\n",
      " '3' '3' '3' '3' '3' '3' '3' '3' '3' '3' '3' '3' '3' '3' '3' '3' '3' '3'\n",
      " '3' '3' '3' '3' '3' '3' '3' '3' '3' '3' '3' '3' '4' '4' '4' '4' '4' '4'\n",
      " '4' '4' '4' '4' '4' '4' '4' '4' '4' '4' '4' '4' '4' '4' '4' '4' '4' '4'\n",
      " '4' '4' '4' '4' '4' '4' '4' '4' '4' '4' '4' '4' '4' '4' '4' '5' '5' '5'\n",
      " '5' '5' '5' '5' '5' '5' '5' '5' '5' '5' '5' '5' '5' '5' '5' '5' '5' '5'\n",
      " '5' '5' '5' '5' '5' '5' '5' '5' '5' '5' '5' '5' '5' '5' '5' '5' '5' '5'\n",
      " '6' '6' '6' '6' '6' '6' '6' '6' '6' '6' '6' '6' '6' '6' '6' '6' '6' '6'\n",
      " '6' '6' '6' '6' '6' '6' '6' '6' '6' '6' '6' '6' '6' '6' '6' '6' '6' '6'\n",
      " '6' '6' '6' '7' '7' '7' '7' '7' '7' '7' '7' '7' '7' '7' '7' '7' '7' '7'\n",
      " '7' '7' '7' '7' '7' '7' '7' '7' '7' '7' '7' '7' '7' '7' '7' '7' '7' '7'\n",
      " '7' '7' '7' '7' '7' '7' '8' '8' '8' '8' '8' '8' '8' '8' '8' '8' '8' '8'\n",
      " '8' '8' '8' '8' '8' '8' '8' '8' '8' '8' '8' '8' '8' '8' '8' '8' '8' '8'\n",
      " '8' '8' '8' '8' '8' '8' '8' '8' '8' '9' '9' '9' '9' '9' '9' '9' '9' '9'\n",
      " '9' '9' '9' '9' '9' '9' '9' '9' '9' '9' '9' '9' '9' '9' '9' '9' '9' '9'\n",
      " '9' '9' '9' '9' '9' '9' '9' '9' '9' '9' '9' '9' 'division' 'division'\n",
      " 'division' 'division' 'division' 'division' 'division' 'division'\n",
      " 'division' 'division' 'division' 'division' 'division' 'division'\n",
      " 'division' 'division' 'division' 'division' 'division' 'division'\n",
      " 'division' 'division' 'division' 'division' 'division' 'division'\n",
      " 'division' 'division' 'division' 'division' 'division' 'division'\n",
      " 'division' 'division' 'division' 'division' 'division' 'division'\n",
      " 'division' 'equal' 'equal' 'equal' 'equal' 'equal' 'equal' 'equal'\n",
      " 'equal' 'equal' 'equal' 'equal' 'equal' 'equal' 'equal' 'equal' 'equal'\n",
      " 'equal' 'equal' 'equal' 'equal' 'equal' 'equal' 'equal' 'equal' 'equal'\n",
      " 'equal' 'equal' 'equal' 'equal' 'equal' 'equal' 'equal' 'equal' 'equal'\n",
      " 'equal' 'equal' 'equal' 'equal' 'equal' 'minus' 'minus' 'minus' 'minus'\n",
      " 'minus' 'minus' 'minus' 'minus' 'minus' 'minus' 'minus' 'minus' 'minus'\n",
      " 'minus' 'minus' 'minus' 'minus' 'minus' 'minus' 'minus' 'minus' 'minus'\n",
      " 'minus' 'minus' 'minus' 'minus' 'minus' 'minus' 'minus' 'minus' 'minus'\n",
      " 'minus' 'minus' 'minus' 'minus' 'minus' 'minus' 'minus' 'minus'\n",
      " 'multiplication' 'multiplication' 'multiplication' 'multiplication'\n",
      " 'multiplication' 'multiplication' 'multiplication' 'multiplication'\n",
      " 'multiplication' 'multiplication' 'multiplication' 'multiplication'\n",
      " 'multiplication' 'multiplication' 'multiplication' 'multiplication'\n",
      " 'multiplication' 'multiplication' 'multiplication' 'multiplication'\n",
      " 'multiplication' 'multiplication' 'multiplication' 'multiplication'\n",
      " 'multiplication' 'multiplication' 'multiplication' 'multiplication'\n",
      " 'multiplication' 'multiplication' 'multiplication' 'multiplication'\n",
      " 'multiplication' 'multiplication' 'multiplication' 'multiplication'\n",
      " 'multiplication' 'multiplication' 'multiplication' 'plus' 'plus' 'plus'\n",
      " 'plus' 'plus' 'plus' 'plus' 'plus' 'plus' 'plus' 'plus' 'plus' 'plus'\n",
      " 'plus' 'plus' 'plus' 'plus' 'plus' 'plus' 'plus' 'plus' 'plus' 'plus'\n",
      " 'plus' 'plus' 'plus' 'plus' 'plus' 'plus' 'plus' 'plus' 'plus' 'plus'\n",
      " 'plus' 'plus' 'plus' 'plus' 'plus' 'plus']\n"
     ]
    },
    {
     "ename": "UFuncTypeError",
     "evalue": "ufunc 'matmul' did not contain a loop with signature matching types (dtype('float64'), dtype('<U14')) -> None",
     "output_type": "error",
     "traceback": [
      "\u001b[1;31m---------------------------------------------------------------------------\u001b[0m",
      "\u001b[1;31mUFuncTypeError\u001b[0m                            Traceback (most recent call last)",
      "Cell \u001b[1;32mIn[14], line 12\u001b[0m\n\u001b[0;32m     10\u001b[0m \u001b[38;5;66;03m# Inisialisasi dan training model\u001b[39;00m\n\u001b[0;32m     11\u001b[0m rbf \u001b[38;5;241m=\u001b[39m RBFNN(n_centers\u001b[38;5;241m=\u001b[39m\u001b[38;5;241m15\u001b[39m)\n\u001b[1;32m---> 12\u001b[0m rbf\u001b[38;5;241m.\u001b[39mfit(X_train, y_train)\n\u001b[0;32m     14\u001b[0m y_pred \u001b[38;5;241m=\u001b[39m rbf\u001b[38;5;241m.\u001b[39mpredict(X_test)\n\u001b[0;32m     15\u001b[0m \u001b[38;5;66;03m# Prediksi\u001b[39;00m\n",
      "File \u001b[1;32md:\\Naldi\\PY\\RBFNN.py:62\u001b[0m, in \u001b[0;36mRBFNN.fit\u001b[1;34m(self, X, y)\u001b[0m\n\u001b[0;32m     60\u001b[0m \u001b[38;5;66;03m# 4. Tambahkan bias dan hitung bobot\u001b[39;00m\n\u001b[0;32m     61\u001b[0m phi \u001b[38;5;241m=\u001b[39m np\u001b[38;5;241m.\u001b[39mhstack([phi, np\u001b[38;5;241m.\u001b[39mones((\u001b[38;5;28mlen\u001b[39m(X), \u001b[38;5;241m1\u001b[39m))])\n\u001b[1;32m---> 62\u001b[0m \u001b[38;5;28mself\u001b[39m\u001b[38;5;241m.\u001b[39mweights \u001b[38;5;241m=\u001b[39m np\u001b[38;5;241m.\u001b[39mlinalg\u001b[38;5;241m.\u001b[39mpinv(phi\u001b[38;5;241m.\u001b[39mT \u001b[38;5;241m@\u001b[39m phi) \u001b[38;5;241m@\u001b[39m phi\u001b[38;5;241m.\u001b[39mT \u001b[38;5;241m@\u001b[39m y\n",
      "\u001b[1;31mUFuncTypeError\u001b[0m: ufunc 'matmul' did not contain a loop with signature matching types (dtype('float64'), dtype('<U14')) -> None"
     ]
    }
   ],
   "source": [
    "X_train, X_test, y_train, y_test = train_test_split(X, y, test_size=0.2)\n",
    "\n",
    "\n",
    "X = np.array(X)\n",
    "y = np.array(y) \n",
    "\n",
    "print(X)\n",
    "print(y)\n",
    "\n",
    "# Inisialisasi dan training model\n",
    "rbf = RBFNN(n_centers=15)\n",
    "rbf.fit(X_train, y_train)\n",
    "\n",
    "y_pred = rbf.predict(X_test)\n",
    "# Prediksi\n",
    "test_image = np.random.rand(1225)  # Gambar uji 35x35\n",
    "prediction = rbf.predict([test_image])\n",
    "print(\"Prediksi:\", prediction)"
   ]
  }
 ],
 "metadata": {
  "kernelspec": {
   "display_name": "elhau",
   "language": "python",
   "name": "python3"
  },
  "language_info": {
   "codemirror_mode": {
    "name": "ipython",
    "version": 3
   },
   "file_extension": ".py",
   "mimetype": "text/x-python",
   "name": "python",
   "nbconvert_exporter": "python",
   "pygments_lexer": "ipython3",
   "version": "3.11.7"
  }
 },
 "nbformat": 4,
 "nbformat_minor": 2
}
