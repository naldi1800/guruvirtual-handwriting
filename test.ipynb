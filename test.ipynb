{
 "cells": [
  {
   "cell_type": "code",
   "execution_count": 1,
   "metadata": {},
   "outputs": [
    {
     "ename": "error",
     "evalue": "OpenCV(4.10.0) D:\\a\\opencv-python\\opencv-python\\opencv\\modules\\imgproc\\src\\color.cpp:196: error: (-215:Assertion failed) !_src.empty() in function 'cv::cvtColor'\n",
     "output_type": "error",
     "traceback": [
      "\u001b[1;31m---------------------------------------------------------------------------\u001b[0m",
      "\u001b[1;31merror\u001b[0m                                     Traceback (most recent call last)",
      "Cell \u001b[1;32mIn[1], line 11\u001b[0m\n\u001b[0;32m      5\u001b[0m img \u001b[38;5;241m=\u001b[39m cv2\u001b[38;5;241m.\u001b[39mimread(\u001b[38;5;124m'\u001b[39m\u001b[38;5;124mkelas1/img20250124_11304689.png\u001b[39m\u001b[38;5;124m'\u001b[39m)\n\u001b[0;32m     10\u001b[0m \u001b[38;5;66;03m# konversi gambar ke grayscale\u001b[39;00m\n\u001b[1;32m---> 11\u001b[0m gray \u001b[38;5;241m=\u001b[39m cv2\u001b[38;5;241m.\u001b[39mcvtColor(img, cv2\u001b[38;5;241m.\u001b[39mCOLOR_BGR2GRAY)\n\u001b[0;32m     13\u001b[0m \u001b[38;5;66;03m# mencari edge pada gambar\u001b[39;00m\n\u001b[0;32m     14\u001b[0m edges \u001b[38;5;241m=\u001b[39m cv2\u001b[38;5;241m.\u001b[39mCanny(gray, \u001b[38;5;241m50\u001b[39m, \u001b[38;5;241m150\u001b[39m)\n",
      "\u001b[1;31merror\u001b[0m: OpenCV(4.10.0) D:\\a\\opencv-python\\opencv-python\\opencv\\modules\\imgproc\\src\\color.cpp:196: error: (-215:Assertion failed) !_src.empty() in function 'cv::cvtColor'\n"
     ]
    }
   ],
   "source": [
    "import numpy as np\n",
    "import cv2\n",
    "\n",
    "# membaca gambar\n",
    "img = cv2.imread('kelas1/img20250124_11304689.png')\n",
    "\n",
    "\n",
    "\n",
    "\n",
    "# konversi gambar ke grayscale\n",
    "gray = cv2.cvtColor(img, cv2.COLOR_BGR2GRAY)\n",
    "\n",
    "# mencari edge pada gambar\n",
    "edges = cv2.Canny(gray, 50, 150)\n",
    "\n",
    "# mencari garis lurus yang membentuk kotak\n",
    "lines = cv2.HoughLinesP(edges, 1, np.pi/180, 200, minLineLength=100, maxLineGap=10)\n",
    "\n",
    "# mencari koordinat x dan y dari titik-titik sudut kotak\n",
    "x = []\n",
    "y = []\n",
    "for line in lines:\n",
    "    for x1,y1,x2,y2 in line:\n",
    "        x.append(x1)\n",
    "        x.append(x2)\n",
    "        y.append(y1)\n",
    "        y.append(y2)\n",
    "\n",
    "# menghitung koordinat x dan y rata-rata\n",
    "x_avg = np.average(x)\n",
    "y_avg = np.average(y)\n",
    "\n",
    "# menampilkan hasil\n",
    "print(\"Koordinat x dan y rata-rata adalah ({}, {})\".format(x_avg, y_avg))\n",
    "\n",
    "# tampilkan langsung gambar\n",
    "cv2.line(img, (int(x_avg), int(y_avg)), (int(x_avg), int(y_avg)), (0, 255, 0), 2)\n",
    "cv2.imshow(\"Kotak\", img)\n",
    "cv2.waitKey(0)"
   ]
  }
 ],
 "metadata": {
  "kernelspec": {
   "display_name": "Python 3",
   "language": "python",
   "name": "python3"
  },
  "language_info": {
   "codemirror_mode": {
    "name": "ipython",
    "version": 3
   },
   "file_extension": ".py",
   "mimetype": "text/x-python",
   "name": "python",
   "nbconvert_exporter": "python",
   "pygments_lexer": "ipython3",
   "version": "3.11.7"
  }
 },
 "nbformat": 4,
 "nbformat_minor": 2
}
